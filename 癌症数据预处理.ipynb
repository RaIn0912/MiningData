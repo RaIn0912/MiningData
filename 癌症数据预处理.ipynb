{
 "cells": [
  {
   "cell_type": "code",
   "execution_count": 1,
   "id": "fcaf085e-a994-4d53-a9a3-fe1cef6a2710",
   "metadata": {},
   "outputs": [
    {
     "data": {
      "text/plain": [
       "(7929839, 13)"
      ]
     },
     "execution_count": 1,
     "metadata": {},
     "output_type": "execute_result"
    }
   ],
   "source": [
    "import pandas as pd\n",
    "\n",
    "data = pd.read_csv('data/SEER原始数据.csv')\n",
    "data.shape"
   ]
  },
  {
   "cell_type": "code",
   "execution_count": 2,
   "id": "9af43a3f-f0bf-4a0e-b506-53cdb6dc3f84",
   "metadata": {},
   "outputs": [
    {
     "data": {
      "text/html": [
       "<div>\n",
       "<style scoped>\n",
       "    .dataframe tbody tr th:only-of-type {\n",
       "        vertical-align: middle;\n",
       "    }\n",
       "\n",
       "    .dataframe tbody tr th {\n",
       "        vertical-align: top;\n",
       "    }\n",
       "\n",
       "    .dataframe thead th {\n",
       "        text-align: right;\n",
       "    }\n",
       "</style>\n",
       "<table border=\"1\" class=\"dataframe\">\n",
       "  <thead>\n",
       "    <tr style=\"text-align: right;\">\n",
       "      <th></th>\n",
       "      <th>Sex</th>\n",
       "      <th>Race</th>\n",
       "      <th>Age</th>\n",
       "      <th>Year</th>\n",
       "      <th>Primary Site</th>\n",
       "      <th>Site</th>\n",
       "      <th>Histologic Type</th>\n",
       "      <th>Grade</th>\n",
       "      <th>Stage Group</th>\n",
       "      <th>tumor size</th>\n",
       "      <th>mets at dx</th>\n",
       "      <th>Surg Prim Site</th>\n",
       "      <th>Survival months</th>\n",
       "    </tr>\n",
       "  </thead>\n",
       "  <tbody>\n",
       "    <tr>\n",
       "      <th>0</th>\n",
       "      <td>Male</td>\n",
       "      <td>White</td>\n",
       "      <td>40-44 years</td>\n",
       "      <td>2002</td>\n",
       "      <td>C62.9-Testis, NOS</td>\n",
       "      <td>Testis</td>\n",
       "      <td>9061</td>\n",
       "      <td>Unknown</td>\n",
       "      <td>Blank(s)</td>\n",
       "      <td>Blank(s)</td>\n",
       "      <td>Blank(s)</td>\n",
       "      <td>40</td>\n",
       "      <td>0232</td>\n",
       "    </tr>\n",
       "    <tr>\n",
       "      <th>1</th>\n",
       "      <td>Male</td>\n",
       "      <td>White</td>\n",
       "      <td>65-69 years</td>\n",
       "      <td>2000</td>\n",
       "      <td>C20.9-Rectum, NOS</td>\n",
       "      <td>Rectum</td>\n",
       "      <td>8140</td>\n",
       "      <td>Well differentiated; Grade I</td>\n",
       "      <td>Blank(s)</td>\n",
       "      <td>Blank(s)</td>\n",
       "      <td>Blank(s)</td>\n",
       "      <td>30</td>\n",
       "      <td>0049</td>\n",
       "    </tr>\n",
       "    <tr>\n",
       "      <th>2</th>\n",
       "      <td>Female</td>\n",
       "      <td>White</td>\n",
       "      <td>35-39 years</td>\n",
       "      <td>2008</td>\n",
       "      <td>C19.9-Rectosigmoid junction</td>\n",
       "      <td>Rectosigmoid Junction</td>\n",
       "      <td>8140</td>\n",
       "      <td>Moderately differentiated; Grade II</td>\n",
       "      <td>Blank(s)</td>\n",
       "      <td>035</td>\n",
       "      <td>40</td>\n",
       "      <td>30</td>\n",
       "      <td>0167</td>\n",
       "    </tr>\n",
       "    <tr>\n",
       "      <th>3</th>\n",
       "      <td>Female</td>\n",
       "      <td>White</td>\n",
       "      <td>60-64 years</td>\n",
       "      <td>2008</td>\n",
       "      <td>C38.1-Anterior mediastinum</td>\n",
       "      <td>Trachea, Mediastinum and Other Respiratory Organs</td>\n",
       "      <td>8801</td>\n",
       "      <td>Well differentiated; Grade I</td>\n",
       "      <td>Blank(s)</td>\n",
       "      <td>090</td>\n",
       "      <td>00</td>\n",
       "      <td>60</td>\n",
       "      <td>0000</td>\n",
       "    </tr>\n",
       "    <tr>\n",
       "      <th>4</th>\n",
       "      <td>Male</td>\n",
       "      <td>White</td>\n",
       "      <td>85+ years</td>\n",
       "      <td>2008</td>\n",
       "      <td>C44.4-Skin of scalp and neck</td>\n",
       "      <td>Melanoma of the Skin</td>\n",
       "      <td>8742</td>\n",
       "      <td>Unknown</td>\n",
       "      <td>Blank(s)</td>\n",
       "      <td>999</td>\n",
       "      <td>00</td>\n",
       "      <td>31</td>\n",
       "      <td>0026</td>\n",
       "    </tr>\n",
       "    <tr>\n",
       "      <th>5</th>\n",
       "      <td>Female</td>\n",
       "      <td>White</td>\n",
       "      <td>75-79 years</td>\n",
       "      <td>2003</td>\n",
       "      <td>C50.6-Axillary tail of breast</td>\n",
       "      <td>Breast</td>\n",
       "      <td>8520</td>\n",
       "      <td>Moderately differentiated; Grade II</td>\n",
       "      <td>Blank(s)</td>\n",
       "      <td>Blank(s)</td>\n",
       "      <td>Blank(s)</td>\n",
       "      <td>22</td>\n",
       "      <td>0014</td>\n",
       "    </tr>\n",
       "    <tr>\n",
       "      <th>6</th>\n",
       "      <td>Female</td>\n",
       "      <td>White</td>\n",
       "      <td>75-79 years</td>\n",
       "      <td>2003</td>\n",
       "      <td>C44.4-Skin of scalp and neck</td>\n",
       "      <td>NHL - Extranodal</td>\n",
       "      <td>9591</td>\n",
       "      <td>B-cell; pre-B; B-precursor</td>\n",
       "      <td>Blank(s)</td>\n",
       "      <td>Blank(s)</td>\n",
       "      <td>Blank(s)</td>\n",
       "      <td>0</td>\n",
       "      <td>0014</td>\n",
       "    </tr>\n",
       "    <tr>\n",
       "      <th>7</th>\n",
       "      <td>Male</td>\n",
       "      <td>White</td>\n",
       "      <td>65-69 years</td>\n",
       "      <td>2007</td>\n",
       "      <td>C74.9-Adrenal gland, NOS</td>\n",
       "      <td>NHL - Extranodal</td>\n",
       "      <td>9680</td>\n",
       "      <td>B-cell; pre-B; B-precursor</td>\n",
       "      <td>Blank(s)</td>\n",
       "      <td>988</td>\n",
       "      <td>98</td>\n",
       "      <td>0</td>\n",
       "      <td>0178</td>\n",
       "    </tr>\n",
       "    <tr>\n",
       "      <th>8</th>\n",
       "      <td>Male</td>\n",
       "      <td>White</td>\n",
       "      <td>80-84 years</td>\n",
       "      <td>2006</td>\n",
       "      <td>C44.3-Skin other/unspec parts of face</td>\n",
       "      <td>Melanoma of the Skin</td>\n",
       "      <td>8720</td>\n",
       "      <td>Unknown</td>\n",
       "      <td>Blank(s)</td>\n",
       "      <td>055</td>\n",
       "      <td>00</td>\n",
       "      <td>33</td>\n",
       "      <td>0094</td>\n",
       "    </tr>\n",
       "    <tr>\n",
       "      <th>9</th>\n",
       "      <td>Female</td>\n",
       "      <td>White</td>\n",
       "      <td>65-69 years</td>\n",
       "      <td>2007</td>\n",
       "      <td>C54.1-Endometrium</td>\n",
       "      <td>Corpus Uteri</td>\n",
       "      <td>8310</td>\n",
       "      <td>Unknown</td>\n",
       "      <td>Blank(s)</td>\n",
       "      <td>999</td>\n",
       "      <td>00</td>\n",
       "      <td>50</td>\n",
       "      <td>0023</td>\n",
       "    </tr>\n",
       "  </tbody>\n",
       "</table>\n",
       "</div>"
      ],
      "text/plain": [
       "      Sex   Race          Age  Year                           Primary Site  \\\n",
       "0    Male  White  40-44 years  2002                      C62.9-Testis, NOS   \n",
       "1    Male  White  65-69 years  2000                      C20.9-Rectum, NOS   \n",
       "2  Female  White  35-39 years  2008            C19.9-Rectosigmoid junction   \n",
       "3  Female  White  60-64 years  2008             C38.1-Anterior mediastinum   \n",
       "4    Male  White    85+ years  2008           C44.4-Skin of scalp and neck   \n",
       "5  Female  White  75-79 years  2003          C50.6-Axillary tail of breast   \n",
       "6  Female  White  75-79 years  2003           C44.4-Skin of scalp and neck   \n",
       "7    Male  White  65-69 years  2007               C74.9-Adrenal gland, NOS   \n",
       "8    Male  White  80-84 years  2006  C44.3-Skin other/unspec parts of face   \n",
       "9  Female  White  65-69 years  2007                      C54.1-Endometrium   \n",
       "\n",
       "                                                Site  Histologic Type  \\\n",
       "0                                             Testis             9061   \n",
       "1                                             Rectum             8140   \n",
       "2                              Rectosigmoid Junction             8140   \n",
       "3  Trachea, Mediastinum and Other Respiratory Organs             8801   \n",
       "4                               Melanoma of the Skin             8742   \n",
       "5                                             Breast             8520   \n",
       "6                                   NHL - Extranodal             9591   \n",
       "7                                   NHL - Extranodal             9680   \n",
       "8                               Melanoma of the Skin             8720   \n",
       "9                                       Corpus Uteri             8310   \n",
       "\n",
       "                                 Grade Stage Group tumor size mets at dx  \\\n",
       "0                              Unknown    Blank(s)   Blank(s)   Blank(s)   \n",
       "1         Well differentiated; Grade I    Blank(s)   Blank(s)   Blank(s)   \n",
       "2  Moderately differentiated; Grade II    Blank(s)        035         40   \n",
       "3         Well differentiated; Grade I    Blank(s)        090         00   \n",
       "4                              Unknown    Blank(s)        999         00   \n",
       "5  Moderately differentiated; Grade II    Blank(s)   Blank(s)   Blank(s)   \n",
       "6           B-cell; pre-B; B-precursor    Blank(s)   Blank(s)   Blank(s)   \n",
       "7           B-cell; pre-B; B-precursor    Blank(s)        988         98   \n",
       "8                              Unknown    Blank(s)        055         00   \n",
       "9                              Unknown    Blank(s)        999         00   \n",
       "\n",
       "   Surg Prim Site Survival months  \n",
       "0              40            0232  \n",
       "1              30            0049  \n",
       "2              30            0167  \n",
       "3              60            0000  \n",
       "4              31            0026  \n",
       "5              22            0014  \n",
       "6               0            0014  \n",
       "7               0            0178  \n",
       "8              33            0094  \n",
       "9              50            0023  "
      ]
     },
     "execution_count": 2,
     "metadata": {},
     "output_type": "execute_result"
    }
   ],
   "source": [
    "data.head(10)"
   ]
  },
  {
   "cell_type": "code",
   "execution_count": 3,
   "id": "d130dc78-da3d-4f6f-907e-e4a5cf6cc4f1",
   "metadata": {},
   "outputs": [
    {
     "data": {
      "text/plain": [
       "(841803, 13)"
      ]
     },
     "execution_count": 3,
     "metadata": {},
     "output_type": "execute_result"
    }
   ],
   "source": [
    "data = data[(data['Race'] != 'Unknown') & (data['Year'] >= 2004) & (data['Year'] <= 2015)]\n",
    "data = data[(data['Grade'] == 'Well differentiated; Grade I') | (data['Grade'] == 'Moderately differentiated; Grade II') | (data['Grade'] == 'Poorly differentiated; Grade III') | (data['Grade'] == 'Undifferentiated; anaplastic; Grade IV')]\n",
    "data.dropna(subset=['Stage Group', 'mets at dx'], inplace=True)\n",
    "data = data[(data['Stage Group'] != 'Blank(s)') & (data['Stage Group'] != 'UNK Stage') & (data['Stage Group'] != 'IEA') & (data['Stage Group'] != 'OCCULT') & (data['Stage Group'] != 'INOS') & (data['Stage Group'] != 'IIINOS') & (data['Stage Group'] != 'IIEA') & (data['Stage Group'] != 'IE') & (data['Stage Group'] != 'IIEB') & (data['Stage Group'] != 'IINOS') & (data['Stage Group'] != 'IIIESB') & (data['Stage Group'] != 'IIIEA') & (data['Stage Group'] != 'IVNOS') & (data['Stage Group'] != 'ISA') & (data['Stage Group'] != 'IIE') & (data['Stage Group'] != 'IBNOS') & (data['Stage Group'] != 'IIISA') & (data['Stage Group'] != 'IIIE') & (data['Stage Group'] != 'IEB') & (data['Stage Group'] != 'IISA') & (data['Stage Group'] != 'IIIEB') & (data['Stage Group'] != 'IIESB') & (data['Stage Group'] != 'IIISB') & (data['Stage Group'] != 'IIIESA') & (data['Stage Group'] != 'IIESA') & (data['Stage Group'] != 'IS') & (data['Stage Group'] != 'IIS') & (data['Stage Group'] != 'IIANOS') & (data['Stage Group'] != 'IANOS') & (data['Stage Group'] != 'ISB') & (data['Stage Group'] != 'IIES') & (data['Stage Group'] != 'IIIES')]\n",
    "data = data[(data['tumor size'] != 'Blank(s)')]\n",
    "data['tumor size'] = data['tumor size'].astype(int)\n",
    "data = data[(data['tumor size'] <= 600)]\n",
    "data['mets at dx'] = data['mets at dx'].astype(int)\n",
    "data = data[(data['mets at dx'] != 99)]\n",
    "data = data[(data['Surg Prim Site'] != 99)]\n",
    "data = data[(data['Survival months'] != 'Unknown')]\n",
    "data['Survival months'] = data['Survival months'].astype(int)\n",
    "\n",
    "data.shape"
   ]
  },
  {
   "cell_type": "code",
   "execution_count": 4,
   "id": "57bb697e-8f8a-4591-b2dc-72690537735f",
   "metadata": {},
   "outputs": [
    {
     "data": {
      "text/plain": [
       "array(['Female', 'Male'], dtype=object)"
      ]
     },
     "execution_count": 4,
     "metadata": {},
     "output_type": "execute_result"
    }
   ],
   "source": [
    "#查看Sex列有哪些值\n",
    "sex_values = data['Sex'].unique()\n",
    "sex_values"
   ]
  },
  {
   "cell_type": "code",
   "execution_count": 5,
   "id": "8105405f-9511-493a-90a3-d986e6116290",
   "metadata": {},
   "outputs": [
    {
     "data": {
      "text/plain": [
       "array([0, 1])"
      ]
     },
     "execution_count": 5,
     "metadata": {},
     "output_type": "execute_result"
    }
   ],
   "source": [
    "# 对性别进行编码，女性编码为0，男性编码为1\n",
    "sex_map = {'Female':0, 'Male':1}\n",
    "data['Sex'] = data['Sex'].map(sex_map)\n",
    "\n",
    "sex_values = data['Sex'].unique()\n",
    "sex_values"
   ]
  },
  {
   "cell_type": "code",
   "execution_count": 6,
   "id": "f338ce79-df55-4b9f-ac3f-f1110e56504f",
   "metadata": {},
   "outputs": [
    {
     "data": {
      "text/plain": [
       "array(['70-74 years', '50-54 years', '80-84 years', '55-59 years',\n",
       "       '65-69 years', '85+ years', '60-64 years', '45-49 years',\n",
       "       '75-79 years', '40-44 years', '20-24 years', '35-39 years',\n",
       "       '30-34 years', '25-29 years', '10-14 years', '15-19 years',\n",
       "       '01-04 years', '05-09 years', '00 years'], dtype=object)"
      ]
     },
     "execution_count": 6,
     "metadata": {},
     "output_type": "execute_result"
    }
   ],
   "source": [
    "#查看Age列有哪些值\n",
    "age_values = data['Age'].unique()\n",
    "age_values"
   ]
  },
  {
   "cell_type": "code",
   "execution_count": 7,
   "id": "5b00f921-2b91-484c-8524-58fe208db3ce",
   "metadata": {},
   "outputs": [
    {
     "data": {
      "text/plain": [
       "array([72, 52, 82, 57, 67, 85, 62, 47, 77, 42, 22, 37, 32, 27, 12, 17,  2,\n",
       "        7,  0])"
      ]
     },
     "execution_count": 7,
     "metadata": {},
     "output_type": "execute_result"
    }
   ],
   "source": [
    "age_map = {'80-84 years':82, '60-64 years':62, '45-49 years':47, '70-74 years':72,\n",
    "       '85+ years':85, '55-59 years':57, '75-79 years':77, '65-69 years':67,\n",
    "       '50-54 years':52, '35-39 years':37, '40-44 years':42, '25-29 years':27,\n",
    "       '30-34 years':32, '15-19 years':17, '10-14 years':12, '20-24 years':22,\n",
    "       '01-04 years':2, '05-09 years':7, '00 years':0}\n",
    "data['Age'] = data['Age'].map(age_map)\n",
    "\n",
    "age_values = data['Age'].unique()\n",
    "age_values"
   ]
  },
  {
   "cell_type": "code",
   "execution_count": 8,
   "id": "42275e2f-6d86-4b10-95e8-a3d98e2847f9",
   "metadata": {},
   "outputs": [
    {
     "data": {
      "text/plain": [
       "array(['Black', 'White',\n",
       "       'Other (American Indian/AK Native, Asian/Pacific Islander)'],\n",
       "      dtype=object)"
      ]
     },
     "execution_count": 8,
     "metadata": {},
     "output_type": "execute_result"
    }
   ],
   "source": [
    "#查看Race列有哪些值\n",
    "race_values = data['Race'].unique()\n",
    "race_values"
   ]
  },
  {
   "cell_type": "code",
   "execution_count": 9,
   "id": "9e987e25-214b-46f0-b2ea-a72b87ac79b4",
   "metadata": {},
   "outputs": [
    {
     "data": {
      "text/plain": [
       "array([2, 1, 3])"
      ]
     },
     "execution_count": 9,
     "metadata": {},
     "output_type": "execute_result"
    }
   ],
   "source": [
    "race_map = {'White':1, 'Black':2, 'Other (American Indian/AK Native, Asian/Pacific Islander)':3}\n",
    "data['Race'] = data['Race'].map(race_map)\n",
    "\n",
    "race_values = data['Race'].unique()\n",
    "race_values"
   ]
  },
  {
   "cell_type": "code",
   "execution_count": 10,
   "id": "b1a2a33c-ea49-41ea-80f1-09c4f96fd742",
   "metadata": {},
   "outputs": [
    {
     "data": {
      "text/plain": [
       "array([2010, 2015, 2012, 2014, 2013, 2011])"
      ]
     },
     "execution_count": 10,
     "metadata": {},
     "output_type": "execute_result"
    }
   ],
   "source": [
    "#查看Year列有哪些值\n",
    "year_values = data['Year'].unique()\n",
    "year_values"
   ]
  },
  {
   "cell_type": "code",
   "execution_count": 11,
   "id": "0ddefc0b-5010-4291-80a7-38259d608665",
   "metadata": {},
   "outputs": [
    {
     "data": {
      "text/plain": [
       "array(['Poorly differentiated; Grade III',\n",
       "       'Moderately differentiated; Grade II',\n",
       "       'Well differentiated; Grade I',\n",
       "       'Undifferentiated; anaplastic; Grade IV'], dtype=object)"
      ]
     },
     "execution_count": 11,
     "metadata": {},
     "output_type": "execute_result"
    }
   ],
   "source": [
    "grade_values = data['Grade'].unique()\n",
    "grade_values"
   ]
  },
  {
   "cell_type": "code",
   "execution_count": 12,
   "id": "e37a7425-dc90-4953-8e0f-69bf8903a543",
   "metadata": {},
   "outputs": [
    {
     "data": {
      "text/plain": [
       "array([3, 2, 1, 4])"
      ]
     },
     "execution_count": 12,
     "metadata": {},
     "output_type": "execute_result"
    }
   ],
   "source": [
    "grade_map = {'Poorly differentiated; Grade III':3,'Moderately differentiated; Grade II':2,'Well differentiated; Grade I':1,'Undifferentiated; anaplastic; Grade IV':4}\n",
    "data[\"Grade\"] = data[\"Grade\"].map(grade_map)\n",
    "\n",
    "grade_values = data['Grade'].unique()\n",
    "grade_values"
   ]
  },
  {
   "cell_type": "code",
   "execution_count": 13,
   "id": "ebdaac5d-f75e-48a9-8076-dbc1762a0f85",
   "metadata": {},
   "outputs": [
    {
     "data": {
      "text/plain": [
       "array(['IIB', 'IIA', 'IA', 'IIIB', 'IIIC', 'IIIA', 'IV', 'IIIC1', 'III',\n",
       "       'I', 'IB', '0a', 'IVA', 'II', 'IVB', 'IB2', 'IIC', '0is', 'IB1',\n",
       "       'IC', '0', 'IIA2', 'IIIC2', 'IVC', 'IA2', 'IA1', 'IIA1'],\n",
       "      dtype=object)"
      ]
     },
     "execution_count": 13,
     "metadata": {},
     "output_type": "execute_result"
    }
   ],
   "source": [
    "stage_values = data['Stage Group'].unique()\n",
    "stage_values"
   ]
  },
  {
   "cell_type": "code",
   "execution_count": 14,
   "id": "eb7d2fce-bce2-493e-b04e-d02d01b3b77a",
   "metadata": {},
   "outputs": [
    {
     "data": {
      "text/plain": [
       "array([ 8,  7,  3, 12, 13, 11, 14, 10,  2,  4,  1, 15,  6, 16,  9,  5, 17])"
      ]
     },
     "execution_count": 14,
     "metadata": {},
     "output_type": "execute_result"
    }
   ],
   "source": [
    "stage_map = {'0':1, '0a':1, '0is':1, 'I':2, 'IA':3, 'IA1':3, 'IA2':3, 'IB':4, 'IB1':4, 'IB2':4, 'IC':5,\n",
    "             'II':6, 'IIA':7, 'IIA1':7, 'IIA2':7, 'IIB':8, 'IIC':9,\n",
    "             'III':10, 'IIIA':11, 'IIIB':12, 'IIIC':13, 'IIIC1':13,'IIIC2':13,\n",
    "             'IV':14, 'IVA':15, 'IVB':16, 'IVC':17}\n",
    "data[\"Stage Group\"] = data[\"Stage Group\"].map(stage_map)\n",
    "\n",
    "stage_values = data['Stage Group'].unique()\n",
    "stage_values"
   ]
  },
  {
   "cell_type": "code",
   "execution_count": 15,
   "id": "b40db3d8-3480-4267-8acb-f336932f2c9a",
   "metadata": {},
   "outputs": [
    {
     "data": {
      "text/plain": [
       "array([ 80,  15,  12,  19,  50,   5,  72,  28,  27,  32,  35, 100,  17,\n",
       "        83,   8,  20,  21,  49, 120,  16,  30,  13,  14,  55,  56,  10,\n",
       "        11,  26,   6,  45,  25,  40,  22,  38,  75,   3,  41,  36,  63,\n",
       "        18,  70,   9,  33,  42,  60,  31, 180, 158,  52,   4,  23,   2,\n",
       "         7,  59,  46,  90,  95,  24,  34,  74,  54,  53,   1, 105,  65,\n",
       "        57,   0,  82,  85,  44,  93, 140,  47, 145,  48,  62,  73,  29,\n",
       "        68, 113,  84,  43,  71, 130,  86,  69,  81,  37, 122,  51,  67,\n",
       "       160,  92,  39,  61, 135,  58, 228, 144, 150,  76,  66, 115,  77,\n",
       "       215, 110, 168,  87, 149, 176, 250,  64, 126, 117, 109,  78,  88,\n",
       "       450,  89, 170, 151, 148, 128,  96, 510, 240,  79, 123, 210, 116,\n",
       "       230, 200, 103, 205, 290, 490, 133,  97, 194, 380, 195,  91, 112,\n",
       "       102, 132, 107, 202, 190, 121,  94, 131, 127, 310, 125, 134, 137,\n",
       "       106, 300, 154, 209, 108, 177, 147, 175, 104, 101,  98,  99, 153,\n",
       "       119, 118, 161, 124, 142, 129, 159, 167, 164, 136, 400, 350, 280,\n",
       "       171, 500, 138, 155, 165, 220, 260, 256, 143, 243, 185, 111, 320,\n",
       "       189, 360, 152, 192, 173, 212, 139, 299, 114, 413, 172, 252, 141,\n",
       "       420, 191, 590, 183, 178, 295, 197, 162, 270, 196, 186, 225, 355,\n",
       "       182, 356, 223, 340, 169, 157, 245, 184, 285, 174, 204, 166, 370,\n",
       "       224, 390, 345, 600, 275, 508, 530, 460, 188, 312, 146, 257, 187,\n",
       "       193, 156, 238, 540, 570, 242, 222, 217, 580, 232, 216, 367, 273,\n",
       "       330, 550, 383, 163, 480, 430, 244, 261, 395, 327, 335, 213, 329,\n",
       "       277, 235, 255, 199, 201, 402, 318, 218, 229, 181, 227, 375, 268,\n",
       "       431, 211, 265, 305, 241, 259, 292, 319, 234, 301, 314, 233, 262,\n",
       "       326, 325, 239, 463, 288, 399, 179, 440, 214, 198, 283, 316, 475,\n",
       "       410, 336, 333, 470, 308, 207, 351, 282, 206, 364, 231, 254, 385,\n",
       "       236, 365, 373, 276, 203, 246, 267, 520, 349, 249, 418, 208, 445,\n",
       "       408, 248, 251, 343, 303, 253, 226, 258, 358, 219, 272, 274, 348,\n",
       "       263, 221, 537, 551, 379, 247, 298, 315, 317, 485, 555, 266, 264,\n",
       "       313, 378, 321, 513, 294, 322, 505, 425, 559, 344, 560, 461, 289,\n",
       "       482, 422, 511, 467, 571, 388, 543, 407, 421, 401, 454, 507, 302,\n",
       "       324, 286])"
      ]
     },
     "execution_count": 15,
     "metadata": {},
     "output_type": "execute_result"
    }
   ],
   "source": [
    "size_values = data['tumor size'].unique()\n",
    "size_values"
   ]
  },
  {
   "cell_type": "code",
   "execution_count": 16,
   "id": "82cb2ff0-b0a3-4d08-88fd-b96ab2cfd86a",
   "metadata": {},
   "outputs": [
    {
     "data": {
      "text/plain": [
       "array([ 0, 40, 75, 51, 10, 26, 45, 36, 41, 24, 44, 11, 15, 52, 42, 30, 23,\n",
       "       60, 50, 37, 38, 25, 31, 12, 20, 53, 55, 17, 35, 48, 65, 16, 43, 18,\n",
       "       33, 27,  5, 70,  8, 22, 32, 54, 13, 21, 58,  7, 80, 29, 14, 57])"
      ]
     },
     "execution_count": 16,
     "metadata": {},
     "output_type": "execute_result"
    }
   ],
   "source": [
    "data['mets at dx'] = data['mets at dx'].astype(int)\n",
    "dx_values = data['mets at dx'].unique()\n",
    "dx_values"
   ]
  },
  {
   "cell_type": "code",
   "execution_count": 17,
   "id": "edb76032-1d03-4d7c-a83c-9fc05b1ad963",
   "metadata": {},
   "outputs": [
    {
     "data": {
      "text/plain": [
       "array([80, 22, 45,  0, 23, 51, 40, 33, 30, 50, 60, 57, 41, 25, 49, 48, 42,\n",
       "       27, 37, 20, 24, 46, 71, 21, 55, 44, 61, 31, 53, 15, 52, 36, 70, 75,\n",
       "       59, 28, 54, 43, 77, 32, 90, 16, 26, 72, 47, 63, 56, 34, 11, 62, 64,\n",
       "       67, 66, 19, 73, 35, 29, 13, 12, 58, 74, 76, 38, 69, 10, 68, 78, 65,\n",
       "       14, 17, 79])"
      ]
     },
     "execution_count": 17,
     "metadata": {},
     "output_type": "execute_result"
    }
   ],
   "source": [
    "surg_values = data['Surg Prim Site'].unique()\n",
    "surg_values"
   ]
  },
  {
   "cell_type": "code",
   "execution_count": 18,
   "id": "22a268d2-e05d-4e60-9aca-bb278dfe7951",
   "metadata": {},
   "outputs": [
    {
     "data": {
      "text/plain": [
       "(841803, 13)"
      ]
     },
     "execution_count": 18,
     "metadata": {},
     "output_type": "execute_result"
    }
   ],
   "source": [
    "data.shape"
   ]
  },
  {
   "cell_type": "code",
   "execution_count": 19,
   "id": "a927d77a-dc0e-4fa3-8425-d649cad02a7c",
   "metadata": {},
   "outputs": [
    {
     "data": {
      "text/plain": [
       "array([ 12,  72, 111,  93,  90,  98,   7, 122,  52, 120,  62,  14,  84,\n",
       "        43,  96,  50,  82, 127, 109, 136,  74,   0,  10,  58,  15,  21,\n",
       "        92,  42,   8,   5,  76, 106,  78,  25,  79, 104,  89, 140,  32,\n",
       "       107,  97, 121, 101,   1, 108,  99,   3,  33,  40,  81, 119, 129,\n",
       "       131,   2,  31,   4,  18,  80, 128,  73,  16,  87, 103, 113, 141,\n",
       "       124, 143,  75, 117, 135,  91, 126, 110,  85,  37,  83, 102,  56,\n",
       "        59,  94,  13, 112,  22, 100,  65,  53, 114,  45, 137, 105,  68,\n",
       "        88,  11,  26, 133, 115,  95,   6,  41,  61,   9, 132,  51,  47,\n",
       "        36, 118,  49, 142,  39,  17, 139,  20,  46,  48,  63,  86,  19,\n",
       "        55,  30,  60,  29, 138,  57,  28, 130,  24,  23, 134,  67,  34,\n",
       "       125,  27,  77,  66, 123, 116,  35,  71,  38,  69,  54,  64,  44,\n",
       "        70])"
      ]
     },
     "execution_count": 19,
     "metadata": {},
     "output_type": "execute_result"
    }
   ],
   "source": [
    "month_values = data['Survival months'].unique()\n",
    "month_values"
   ]
  },
  {
   "cell_type": "code",
   "execution_count": 28,
   "id": "496c9108-02f4-459e-90e8-1507c174176b",
   "metadata": {},
   "outputs": [],
   "source": [
    "data.drop(['Primary Site', 'Site'], axis=1).to_csv(\n",
    "      'data/SEER处理后数据.csv',\n",
    "      index=False,\n",
    "      encoding='utf-8-sig'\n",
    "  )"
   ]
  },
  {
   "cell_type": "code",
   "execution_count": null,
   "id": "049ed424-729d-4e44-ab9d-e38f1038dffe",
   "metadata": {},
   "outputs": [],
   "source": []
  }
 ],
 "metadata": {
  "kernelspec": {
   "display_name": "Python [conda env:env1]",
   "language": "python",
   "name": "conda-env-env1-py"
  },
  "language_info": {
   "codemirror_mode": {
    "name": "ipython",
    "version": 3
   },
   "file_extension": ".py",
   "mimetype": "text/x-python",
   "name": "python",
   "nbconvert_exporter": "python",
   "pygments_lexer": "ipython3",
   "version": "3.12.8"
  }
 },
 "nbformat": 4,
 "nbformat_minor": 5
}
